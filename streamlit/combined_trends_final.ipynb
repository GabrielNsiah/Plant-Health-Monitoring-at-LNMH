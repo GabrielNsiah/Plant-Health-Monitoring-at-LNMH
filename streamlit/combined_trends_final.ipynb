{
 "cells": [
  {
   "cell_type": "markdown",
   "metadata": {},
   "source": [
    "Notebook for creating Combined Trends over Time Graph"
   ]
  },
  {
   "cell_type": "code",
   "execution_count": 1,
   "metadata": {},
   "outputs": [],
   "source": [
    "import altair as alt\n",
    "import pandas as pd\n",
    "import streamlit as st\n",
    "from base_script import return_merged_df, get_connection"
   ]
  },
  {
   "cell_type": "markdown",
   "metadata": {},
   "source": [
    "Import merged df"
   ]
  },
  {
   "cell_type": "code",
   "execution_count": 2,
   "metadata": {},
   "outputs": [
    {
     "data": {
      "text/html": [
       "<div>\n",
       "<style scoped>\n",
       "    .dataframe tbody tr th:only-of-type {\n",
       "        vertical-align: middle;\n",
       "    }\n",
       "\n",
       "    .dataframe tbody tr th {\n",
       "        vertical-align: top;\n",
       "    }\n",
       "\n",
       "    .dataframe thead th {\n",
       "        text-align: right;\n",
       "    }\n",
       "</style>\n",
       "<table border=\"1\" class=\"dataframe\">\n",
       "  <thead>\n",
       "    <tr style=\"text-align: right;\">\n",
       "      <th></th>\n",
       "      <th>recording_id</th>\n",
       "      <th>plant_id</th>\n",
       "      <th>last_watered</th>\n",
       "      <th>soil_moisture</th>\n",
       "      <th>temperature</th>\n",
       "      <th>recording_taken</th>\n",
       "    </tr>\n",
       "  </thead>\n",
       "  <tbody>\n",
       "    <tr>\n",
       "      <th>2570</th>\n",
       "      <td>7785</td>\n",
       "      <td>26</td>\n",
       "      <td>2024-11-28 14:23:18</td>\n",
       "      <td>21.040682</td>\n",
       "      <td>14.142354</td>\n",
       "      <td>2024-11-29 14:13:46</td>\n",
       "    </tr>\n",
       "    <tr>\n",
       "      <th>5566</th>\n",
       "      <td>4789</td>\n",
       "      <td>11</td>\n",
       "      <td>2024-11-28 13:37:24</td>\n",
       "      <td>20.553158</td>\n",
       "      <td>9.444513</td>\n",
       "      <td>2024-11-29 13:11:33</td>\n",
       "    </tr>\n",
       "    <tr>\n",
       "      <th>4612</th>\n",
       "      <td>5743</td>\n",
       "      <td>1</td>\n",
       "      <td>2024-11-28 13:54:32</td>\n",
       "      <td>16.325087</td>\n",
       "      <td>12.037304</td>\n",
       "      <td>2024-11-29 13:31:25</td>\n",
       "    </tr>\n",
       "    <tr>\n",
       "      <th>9210</th>\n",
       "      <td>1156</td>\n",
       "      <td>20</td>\n",
       "      <td>2024-11-28 14:49:34</td>\n",
       "      <td>25.465661</td>\n",
       "      <td>8.558238</td>\n",
       "      <td>2024-11-29 12:00:22</td>\n",
       "    </tr>\n",
       "    <tr>\n",
       "      <th>4561</th>\n",
       "      <td>5794</td>\n",
       "      <td>5</td>\n",
       "      <td>2024-11-28 14:56:18</td>\n",
       "      <td>23.018509</td>\n",
       "      <td>11.200284</td>\n",
       "      <td>2024-11-29 13:32:27</td>\n",
       "    </tr>\n",
       "  </tbody>\n",
       "</table>\n",
       "</div>"
      ],
      "text/plain": [
       "      recording_id  plant_id         last_watered  soil_moisture  temperature  \\\n",
       "2570          7785        26  2024-11-28 14:23:18      21.040682    14.142354   \n",
       "5566          4789        11  2024-11-28 13:37:24      20.553158     9.444513   \n",
       "4612          5743         1  2024-11-28 13:54:32      16.325087    12.037304   \n",
       "9210          1156        20  2024-11-28 14:49:34      25.465661     8.558238   \n",
       "4561          5794         5  2024-11-28 14:56:18      23.018509    11.200284   \n",
       "\n",
       "         recording_taken  \n",
       "2570 2024-11-29 14:13:46  \n",
       "5566 2024-11-29 13:11:33  \n",
       "4612 2024-11-29 13:31:25  \n",
       "9210 2024-11-29 12:00:22  \n",
       "4561 2024-11-29 13:32:27  "
      ]
     },
     "execution_count": 2,
     "metadata": {},
     "output_type": "execute_result"
    }
   ],
   "source": [
    "conn = get_connection()\n",
    "merged_df = return_merged_df()\n",
    "merged_df.sample(5)"
   ]
  },
  {
   "cell_type": "code",
   "execution_count": 3,
   "metadata": {},
   "outputs": [],
   "source": [
    "alt.data_transformers.disable_max_rows()\n",
    "merged_df = merged_df.drop(columns=['recording_id', 'plant_id', 'last_watered'])\n",
    "merged_df.sample(5)\n",
    "\n",
    "merged_df.set_index('recording_taken', inplace=True)\n",
    "grouped_df = merged_df.resample('30min').mean()\n",
    "grouped_df = grouped_df.interpolate(method='linear').reset_index()\n",
    "\n",
    "# merged_df['recording_taken'] = merged_df['recording_taken'].dt.floor('H')\n",
    "# merged_df = merged_df.groupby('recording_taken').mean().reset_index()"
   ]
  },
  {
   "cell_type": "code",
   "execution_count": 4,
   "metadata": {},
   "outputs": [
    {
     "data": {
      "text/html": [
       "\n",
       "<style>\n",
       "  #altair-viz-38546ebe4f634df69dac2dc271f3d83f.vega-embed {\n",
       "    width: 100%;\n",
       "    display: flex;\n",
       "  }\n",
       "\n",
       "  #altair-viz-38546ebe4f634df69dac2dc271f3d83f.vega-embed details,\n",
       "  #altair-viz-38546ebe4f634df69dac2dc271f3d83f.vega-embed details summary {\n",
       "    position: relative;\n",
       "  }\n",
       "</style>\n",
       "<div id=\"altair-viz-38546ebe4f634df69dac2dc271f3d83f\"></div>\n",
       "<script type=\"text/javascript\">\n",
       "  var VEGA_DEBUG = (typeof VEGA_DEBUG == \"undefined\") ? {} : VEGA_DEBUG;\n",
       "  (function(spec, embedOpt){\n",
       "    let outputDiv = document.currentScript.previousElementSibling;\n",
       "    if (outputDiv.id !== \"altair-viz-38546ebe4f634df69dac2dc271f3d83f\") {\n",
       "      outputDiv = document.getElementById(\"altair-viz-38546ebe4f634df69dac2dc271f3d83f\");\n",
       "    }\n",
       "\n",
       "    const paths = {\n",
       "      \"vega\": \"https://cdn.jsdelivr.net/npm/vega@5?noext\",\n",
       "      \"vega-lib\": \"https://cdn.jsdelivr.net/npm/vega-lib?noext\",\n",
       "      \"vega-lite\": \"https://cdn.jsdelivr.net/npm/vega-lite@5.20.1?noext\",\n",
       "      \"vega-embed\": \"https://cdn.jsdelivr.net/npm/vega-embed@6?noext\",\n",
       "    };\n",
       "\n",
       "    function maybeLoadScript(lib, version) {\n",
       "      var key = `${lib.replace(\"-\", \"\")}_version`;\n",
       "      return (VEGA_DEBUG[key] == version) ?\n",
       "        Promise.resolve(paths[lib]) :\n",
       "        new Promise(function(resolve, reject) {\n",
       "          var s = document.createElement('script');\n",
       "          document.getElementsByTagName(\"head\")[0].appendChild(s);\n",
       "          s.async = true;\n",
       "          s.onload = () => {\n",
       "            VEGA_DEBUG[key] = version;\n",
       "            return resolve(paths[lib]);\n",
       "          };\n",
       "          s.onerror = () => reject(`Error loading script: ${paths[lib]}`);\n",
       "          s.src = paths[lib];\n",
       "        });\n",
       "    }\n",
       "\n",
       "    function showError(err) {\n",
       "      outputDiv.innerHTML = `<div class=\"error\" style=\"color:red;\">${err}</div>`;\n",
       "      throw err;\n",
       "    }\n",
       "\n",
       "    function displayChart(vegaEmbed) {\n",
       "      vegaEmbed(outputDiv, spec, embedOpt)\n",
       "        .catch(err => showError(`Javascript Error: ${err.message}<br>This usually means there's a typo in your chart specification. See the javascript console for the full traceback.`));\n",
       "    }\n",
       "\n",
       "    if(typeof define === \"function\" && define.amd) {\n",
       "      requirejs.config({paths});\n",
       "      let deps = [\"vega-embed\"];\n",
       "      require(deps, displayChart, err => showError(`Error loading script: ${err.message}`));\n",
       "    } else {\n",
       "      maybeLoadScript(\"vega\", \"5\")\n",
       "        .then(() => maybeLoadScript(\"vega-lite\", \"5.20.1\"))\n",
       "        .then(() => maybeLoadScript(\"vega-embed\", \"6\"))\n",
       "        .catch(showError)\n",
       "        .then(() => displayChart(vegaEmbed));\n",
       "    }\n",
       "  })({\"config\": {\"view\": {\"continuousWidth\": 300, \"continuousHeight\": 300}}, \"data\": {\"name\": \"data-9fa10245d8a1f51cd027fb916d5add09\"}, \"mark\": {\"type\": \"line\"}, \"encoding\": {\"color\": {\"field\": \"Measurement\", \"type\": \"nominal\"}, \"tooltip\": [{\"field\": \"recording_taken\", \"type\": \"temporal\"}, {\"field\": \"Measurement\", \"type\": \"nominal\"}, {\"field\": \"Value\", \"type\": \"quantitative\"}], \"x\": {\"field\": \"recording_taken\", \"title\": \"Time\", \"type\": \"temporal\"}, \"y\": {\"field\": \"Value\", \"title\": \"Value\", \"type\": \"quantitative\"}}, \"height\": 400, \"title\": \"30-Minute Average Soil Moisture and Temperature over Time\", \"width\": 800, \"$schema\": \"https://vega.github.io/schema/vega-lite/v5.20.1.json\", \"datasets\": {\"data-9fa10245d8a1f51cd027fb916d5add09\": [{\"recording_taken\": \"2024-11-27T17:00:00\", \"Measurement\": \"soil_moisture\", \"Value\": 88.77338207979254}, {\"recording_taken\": \"2024-11-27T17:30:00\", \"Measurement\": \"soil_moisture\", \"Value\": 87.68968264807594}, {\"recording_taken\": \"2024-11-27T18:00:00\", \"Measurement\": \"soil_moisture\", \"Value\": 87.83107116014263}, {\"recording_taken\": \"2024-11-27T18:30:00\", \"Measurement\": \"soil_moisture\", \"Value\": 87.97245967220931}, {\"recording_taken\": \"2024-11-27T19:00:00\", \"Measurement\": \"soil_moisture\", \"Value\": 88.113848184276}, {\"recording_taken\": \"2024-11-27T19:30:00\", \"Measurement\": \"soil_moisture\", \"Value\": 88.25523669634268}, {\"recording_taken\": \"2024-11-27T20:00:00\", \"Measurement\": \"soil_moisture\", \"Value\": 88.39662520840936}, {\"recording_taken\": \"2024-11-27T20:30:00\", \"Measurement\": \"soil_moisture\", \"Value\": 88.53801372047606}, {\"recording_taken\": \"2024-11-27T21:00:00\", \"Measurement\": \"soil_moisture\", \"Value\": 88.67940223254274}, {\"recording_taken\": \"2024-11-27T21:30:00\", \"Measurement\": \"soil_moisture\", \"Value\": 88.82079074460943}, {\"recording_taken\": \"2024-11-27T22:00:00\", \"Measurement\": \"soil_moisture\", \"Value\": 88.96217925667611}, {\"recording_taken\": \"2024-11-27T22:30:00\", \"Measurement\": \"soil_moisture\", \"Value\": 89.10356776874279}, {\"recording_taken\": \"2024-11-27T23:00:00\", \"Measurement\": \"soil_moisture\", \"Value\": 89.24495628080948}, {\"recording_taken\": \"2024-11-27T23:30:00\", \"Measurement\": \"soil_moisture\", \"Value\": 89.38634479287616}, {\"recording_taken\": \"2024-11-28T00:00:00\", \"Measurement\": \"soil_moisture\", \"Value\": 89.52773330494284}, {\"recording_taken\": \"2024-11-28T00:30:00\", \"Measurement\": \"soil_moisture\", \"Value\": 89.66912181700953}, {\"recording_taken\": \"2024-11-28T01:00:00\", \"Measurement\": \"soil_moisture\", \"Value\": 89.81051032907621}, {\"recording_taken\": \"2024-11-28T01:30:00\", \"Measurement\": \"soil_moisture\", \"Value\": 89.95189884114289}, {\"recording_taken\": \"2024-11-28T02:00:00\", \"Measurement\": \"soil_moisture\", \"Value\": 90.09328735320959}, {\"recording_taken\": \"2024-11-28T02:30:00\", \"Measurement\": \"soil_moisture\", \"Value\": 90.23467586527627}, {\"recording_taken\": \"2024-11-28T03:00:00\", \"Measurement\": \"soil_moisture\", \"Value\": 90.37606437734296}, {\"recording_taken\": \"2024-11-28T03:30:00\", \"Measurement\": \"soil_moisture\", \"Value\": 90.51745288940964}, {\"recording_taken\": \"2024-11-28T04:00:00\", \"Measurement\": \"soil_moisture\", \"Value\": 90.65884140147632}, {\"recording_taken\": \"2024-11-28T04:30:00\", \"Measurement\": \"soil_moisture\", \"Value\": 90.800229913543}, {\"recording_taken\": \"2024-11-28T05:00:00\", \"Measurement\": \"soil_moisture\", \"Value\": 90.94161842560969}, {\"recording_taken\": \"2024-11-28T05:30:00\", \"Measurement\": \"soil_moisture\", \"Value\": 91.08300693767637}, {\"recording_taken\": \"2024-11-28T06:00:00\", \"Measurement\": \"soil_moisture\", \"Value\": 91.22439544974306}, {\"recording_taken\": \"2024-11-28T06:30:00\", \"Measurement\": \"soil_moisture\", \"Value\": 91.36578396180974}, {\"recording_taken\": \"2024-11-28T07:00:00\", \"Measurement\": \"soil_moisture\", \"Value\": 91.50717247387642}, {\"recording_taken\": \"2024-11-28T07:30:00\", \"Measurement\": \"soil_moisture\", \"Value\": 91.64856098594312}, {\"recording_taken\": \"2024-11-28T08:00:00\", \"Measurement\": \"soil_moisture\", \"Value\": 91.7899494980098}, {\"recording_taken\": \"2024-11-28T08:30:00\", \"Measurement\": \"soil_moisture\", \"Value\": 91.93133801007649}, {\"recording_taken\": \"2024-11-28T09:00:00\", \"Measurement\": \"soil_moisture\", \"Value\": 92.07272652214317}, {\"recording_taken\": \"2024-11-28T09:30:00\", \"Measurement\": \"soil_moisture\", \"Value\": 92.21411503420985}, {\"recording_taken\": \"2024-11-28T10:00:00\", \"Measurement\": \"soil_moisture\", \"Value\": 92.35550354627654}, {\"recording_taken\": \"2024-11-28T10:30:00\", \"Measurement\": \"soil_moisture\", \"Value\": 92.49689205834322}, {\"recording_taken\": \"2024-11-28T11:00:00\", \"Measurement\": \"soil_moisture\", \"Value\": 92.6382805704099}, {\"recording_taken\": \"2024-11-28T11:30:00\", \"Measurement\": \"soil_moisture\", \"Value\": 92.77966908247659}, {\"recording_taken\": \"2024-11-28T12:00:00\", \"Measurement\": \"soil_moisture\", \"Value\": 92.92105759454327}, {\"recording_taken\": \"2024-11-28T12:30:00\", \"Measurement\": \"soil_moisture\", \"Value\": 93.06244610660995}, {\"recording_taken\": \"2024-11-28T13:00:00\", \"Measurement\": \"soil_moisture\", \"Value\": 93.20383461867665}, {\"recording_taken\": \"2024-11-28T13:30:00\", \"Measurement\": \"soil_moisture\", \"Value\": 93.34522313074334}, {\"recording_taken\": \"2024-11-28T14:00:00\", \"Measurement\": \"soil_moisture\", \"Value\": 93.48661164281002}, {\"recording_taken\": \"2024-11-28T14:30:00\", \"Measurement\": \"soil_moisture\", \"Value\": 93.6280001548767}, {\"recording_taken\": \"2024-11-28T15:00:00\", \"Measurement\": \"soil_moisture\", \"Value\": 93.76938866694339}, {\"recording_taken\": \"2024-11-28T15:30:00\", \"Measurement\": \"soil_moisture\", \"Value\": 93.91077717901007}, {\"recording_taken\": \"2024-11-28T16:00:00\", \"Measurement\": \"soil_moisture\", \"Value\": 92.1429900173936}, {\"recording_taken\": \"2024-11-28T16:30:00\", \"Measurement\": \"soil_moisture\", \"Value\": 90.37520285577713}, {\"recording_taken\": \"2024-11-28T17:00:00\", \"Measurement\": \"soil_moisture\", \"Value\": 88.60741569416066}, {\"recording_taken\": \"2024-11-28T17:30:00\", \"Measurement\": \"soil_moisture\", \"Value\": 86.8396285325442}, {\"recording_taken\": \"2024-11-28T18:00:00\", \"Measurement\": \"soil_moisture\", \"Value\": 85.07184137092771}, {\"recording_taken\": \"2024-11-28T18:30:00\", \"Measurement\": \"soil_moisture\", \"Value\": 83.30405420931125}, {\"recording_taken\": \"2024-11-28T19:00:00\", \"Measurement\": \"soil_moisture\", \"Value\": 81.53626704769478}, {\"recording_taken\": \"2024-11-28T19:30:00\", \"Measurement\": \"soil_moisture\", \"Value\": 79.76847988607831}, {\"recording_taken\": \"2024-11-28T20:00:00\", \"Measurement\": \"soil_moisture\", \"Value\": 78.00069272446184}, {\"recording_taken\": \"2024-11-28T20:30:00\", \"Measurement\": \"soil_moisture\", \"Value\": 76.23290556284537}, {\"recording_taken\": \"2024-11-28T21:00:00\", \"Measurement\": \"soil_moisture\", \"Value\": 74.4651184012289}, {\"recording_taken\": \"2024-11-28T21:30:00\", \"Measurement\": \"soil_moisture\", \"Value\": 72.69733123961242}, {\"recording_taken\": \"2024-11-28T22:00:00\", \"Measurement\": \"soil_moisture\", \"Value\": 70.92954407799596}, {\"recording_taken\": \"2024-11-28T22:30:00\", \"Measurement\": \"soil_moisture\", \"Value\": 69.16175691637949}, {\"recording_taken\": \"2024-11-28T23:00:00\", \"Measurement\": \"soil_moisture\", \"Value\": 67.39396975476302}, {\"recording_taken\": \"2024-11-28T23:30:00\", \"Measurement\": \"soil_moisture\", \"Value\": 65.62618259314655}, {\"recording_taken\": \"2024-11-29T00:00:00\", \"Measurement\": \"soil_moisture\", \"Value\": 63.858395431530084}, {\"recording_taken\": \"2024-11-29T00:30:00\", \"Measurement\": \"soil_moisture\", \"Value\": 62.090608269913616}, {\"recording_taken\": \"2024-11-29T01:00:00\", \"Measurement\": \"soil_moisture\", \"Value\": 60.32282110829714}, {\"recording_taken\": \"2024-11-29T01:30:00\", \"Measurement\": \"soil_moisture\", \"Value\": 58.55503394668067}, {\"recording_taken\": \"2024-11-29T02:00:00\", \"Measurement\": \"soil_moisture\", \"Value\": 56.787246785064205}, {\"recording_taken\": \"2024-11-29T02:30:00\", \"Measurement\": \"soil_moisture\", \"Value\": 55.01945962344773}, {\"recording_taken\": \"2024-11-29T03:00:00\", \"Measurement\": \"soil_moisture\", \"Value\": 53.25167246183126}, {\"recording_taken\": \"2024-11-29T03:30:00\", \"Measurement\": \"soil_moisture\", \"Value\": 51.483885300214794}, {\"recording_taken\": \"2024-11-29T04:00:00\", \"Measurement\": \"soil_moisture\", \"Value\": 49.716098138598326}, {\"recording_taken\": \"2024-11-29T04:30:00\", \"Measurement\": \"soil_moisture\", \"Value\": 47.94831097698186}, {\"recording_taken\": \"2024-11-29T05:00:00\", \"Measurement\": \"soil_moisture\", \"Value\": 46.18052381536538}, {\"recording_taken\": \"2024-11-29T05:30:00\", \"Measurement\": \"soil_moisture\", \"Value\": 44.412736653748915}, {\"recording_taken\": \"2024-11-29T06:00:00\", \"Measurement\": \"soil_moisture\", \"Value\": 42.64494949213245}, {\"recording_taken\": \"2024-11-29T06:30:00\", \"Measurement\": \"soil_moisture\", \"Value\": 40.87716233051597}, {\"recording_taken\": \"2024-11-29T07:00:00\", \"Measurement\": \"soil_moisture\", \"Value\": 39.109375168899504}, {\"recording_taken\": \"2024-11-29T07:30:00\", \"Measurement\": \"soil_moisture\", \"Value\": 37.341588007283036}, {\"recording_taken\": \"2024-11-29T08:00:00\", \"Measurement\": \"soil_moisture\", \"Value\": 35.57380084566657}, {\"recording_taken\": \"2024-11-29T08:30:00\", \"Measurement\": \"soil_moisture\", \"Value\": 33.8060136840501}, {\"recording_taken\": \"2024-11-29T09:00:00\", \"Measurement\": \"soil_moisture\", \"Value\": 32.038226522433625}, {\"recording_taken\": \"2024-11-29T09:30:00\", \"Measurement\": \"soil_moisture\", \"Value\": 30.270439360817157}, {\"recording_taken\": \"2024-11-29T10:00:00\", \"Measurement\": \"soil_moisture\", \"Value\": 28.50265219920069}, {\"recording_taken\": \"2024-11-29T10:30:00\", \"Measurement\": \"soil_moisture\", \"Value\": 26.734865037584218}, {\"recording_taken\": \"2024-11-29T11:00:00\", \"Measurement\": \"soil_moisture\", \"Value\": 24.967077875967743}, {\"recording_taken\": \"2024-11-29T11:30:00\", \"Measurement\": \"soil_moisture\", \"Value\": 22.794641688997693}, {\"recording_taken\": \"2024-11-29T12:00:00\", \"Measurement\": \"soil_moisture\", \"Value\": 21.729491562877303}, {\"recording_taken\": \"2024-11-29T12:30:00\", \"Measurement\": \"soil_moisture\", \"Value\": 20.005902624277624}, {\"recording_taken\": \"2024-11-29T13:00:00\", \"Measurement\": \"soil_moisture\", \"Value\": 26.072351586138012}, {\"recording_taken\": \"2024-11-29T13:30:00\", \"Measurement\": \"soil_moisture\", \"Value\": 44.3443786873307}, {\"recording_taken\": \"2024-11-29T14:00:00\", \"Measurement\": \"soil_moisture\", \"Value\": 70.51119397425359}, {\"recording_taken\": \"2024-11-29T14:30:00\", \"Measurement\": \"soil_moisture\", \"Value\": 87.70212540293997}, {\"recording_taken\": \"2024-11-29T15:00:00\", \"Measurement\": \"soil_moisture\", \"Value\": 95.79869066253183}, {\"recording_taken\": \"2024-11-27T17:00:00\", \"Measurement\": \"temperature\", \"Value\": 12.010182471404056}, {\"recording_taken\": \"2024-11-27T17:30:00\", \"Measurement\": \"temperature\", \"Value\": 11.659204321083813}, {\"recording_taken\": \"2024-11-27T18:00:00\", \"Measurement\": \"temperature\", \"Value\": 11.658295423907758}, {\"recording_taken\": \"2024-11-27T18:30:00\", \"Measurement\": \"temperature\", \"Value\": 11.6573865267317}, {\"recording_taken\": \"2024-11-27T19:00:00\", \"Measurement\": \"temperature\", \"Value\": 11.656477629555646}, {\"recording_taken\": \"2024-11-27T19:30:00\", \"Measurement\": \"temperature\", \"Value\": 11.655568732379589}, {\"recording_taken\": \"2024-11-27T20:00:00\", \"Measurement\": \"temperature\", \"Value\": 11.654659835203534}, {\"recording_taken\": \"2024-11-27T20:30:00\", \"Measurement\": \"temperature\", \"Value\": 11.653750938027477}, {\"recording_taken\": \"2024-11-27T21:00:00\", \"Measurement\": \"temperature\", \"Value\": 11.652842040851422}, {\"recording_taken\": \"2024-11-27T21:30:00\", \"Measurement\": \"temperature\", \"Value\": 11.651933143675366}, {\"recording_taken\": \"2024-11-27T22:00:00\", \"Measurement\": \"temperature\", \"Value\": 11.65102424649931}, {\"recording_taken\": \"2024-11-27T22:30:00\", \"Measurement\": \"temperature\", \"Value\": 11.650115349323254}, {\"recording_taken\": \"2024-11-27T23:00:00\", \"Measurement\": \"temperature\", \"Value\": 11.649206452147197}, {\"recording_taken\": \"2024-11-27T23:30:00\", \"Measurement\": \"temperature\", \"Value\": 11.648297554971142}, {\"recording_taken\": \"2024-11-28T00:00:00\", \"Measurement\": \"temperature\", \"Value\": 11.647388657795085}, {\"recording_taken\": \"2024-11-28T00:30:00\", \"Measurement\": \"temperature\", \"Value\": 11.64647976061903}, {\"recording_taken\": \"2024-11-28T01:00:00\", \"Measurement\": \"temperature\", \"Value\": 11.645570863442975}, {\"recording_taken\": \"2024-11-28T01:30:00\", \"Measurement\": \"temperature\", \"Value\": 11.644661966266918}, {\"recording_taken\": \"2024-11-28T02:00:00\", \"Measurement\": \"temperature\", \"Value\": 11.643753069090863}, {\"recording_taken\": \"2024-11-28T02:30:00\", \"Measurement\": \"temperature\", \"Value\": 11.642844171914806}, {\"recording_taken\": \"2024-11-28T03:00:00\", \"Measurement\": \"temperature\", \"Value\": 11.641935274738751}, {\"recording_taken\": \"2024-11-28T03:30:00\", \"Measurement\": \"temperature\", \"Value\": 11.641026377562694}, {\"recording_taken\": \"2024-11-28T04:00:00\", \"Measurement\": \"temperature\", \"Value\": 11.640117480386639}, {\"recording_taken\": \"2024-11-28T04:30:00\", \"Measurement\": \"temperature\", \"Value\": 11.639208583210582}, {\"recording_taken\": \"2024-11-28T05:00:00\", \"Measurement\": \"temperature\", \"Value\": 11.638299686034527}, {\"recording_taken\": \"2024-11-28T05:30:00\", \"Measurement\": \"temperature\", \"Value\": 11.637390788858472}, {\"recording_taken\": \"2024-11-28T06:00:00\", \"Measurement\": \"temperature\", \"Value\": 11.636481891682415}, {\"recording_taken\": \"2024-11-28T06:30:00\", \"Measurement\": \"temperature\", \"Value\": 11.63557299450636}, {\"recording_taken\": \"2024-11-28T07:00:00\", \"Measurement\": \"temperature\", \"Value\": 11.634664097330303}, {\"recording_taken\": \"2024-11-28T07:30:00\", \"Measurement\": \"temperature\", \"Value\": 11.633755200154248}, {\"recording_taken\": \"2024-11-28T08:00:00\", \"Measurement\": \"temperature\", \"Value\": 11.63284630297819}, {\"recording_taken\": \"2024-11-28T08:30:00\", \"Measurement\": \"temperature\", \"Value\": 11.631937405802136}, {\"recording_taken\": \"2024-11-28T09:00:00\", \"Measurement\": \"temperature\", \"Value\": 11.63102850862608}, {\"recording_taken\": \"2024-11-28T09:30:00\", \"Measurement\": \"temperature\", \"Value\": 11.630119611450024}, {\"recording_taken\": \"2024-11-28T10:00:00\", \"Measurement\": \"temperature\", \"Value\": 11.629210714273968}, {\"recording_taken\": \"2024-11-28T10:30:00\", \"Measurement\": \"temperature\", \"Value\": 11.628301817097912}, {\"recording_taken\": \"2024-11-28T11:00:00\", \"Measurement\": \"temperature\", \"Value\": 11.627392919921856}, {\"recording_taken\": \"2024-11-28T11:30:00\", \"Measurement\": \"temperature\", \"Value\": 11.6264840227458}, {\"recording_taken\": \"2024-11-28T12:00:00\", \"Measurement\": \"temperature\", \"Value\": 11.625575125569744}, {\"recording_taken\": \"2024-11-28T12:30:00\", \"Measurement\": \"temperature\", \"Value\": 11.62466622839369}, {\"recording_taken\": \"2024-11-28T13:00:00\", \"Measurement\": \"temperature\", \"Value\": 11.623757331217632}, {\"recording_taken\": \"2024-11-28T13:30:00\", \"Measurement\": \"temperature\", \"Value\": 11.622848434041577}, {\"recording_taken\": \"2024-11-28T14:00:00\", \"Measurement\": \"temperature\", \"Value\": 11.62193953686552}, {\"recording_taken\": \"2024-11-28T14:30:00\", \"Measurement\": \"temperature\", \"Value\": 11.621030639689465}, {\"recording_taken\": \"2024-11-28T15:00:00\", \"Measurement\": \"temperature\", \"Value\": 11.620121742513408}, {\"recording_taken\": \"2024-11-28T15:30:00\", \"Measurement\": \"temperature\", \"Value\": 11.619212845337353}, {\"recording_taken\": \"2024-11-28T16:00:00\", \"Measurement\": \"temperature\", \"Value\": 11.637518730890267}, {\"recording_taken\": \"2024-11-28T16:30:00\", \"Measurement\": \"temperature\", \"Value\": 11.65582461644318}, {\"recording_taken\": \"2024-11-28T17:00:00\", \"Measurement\": \"temperature\", \"Value\": 11.674130501996094}, {\"recording_taken\": \"2024-11-28T17:30:00\", \"Measurement\": \"temperature\", \"Value\": 11.692436387549009}, {\"recording_taken\": \"2024-11-28T18:00:00\", \"Measurement\": \"temperature\", \"Value\": 11.710742273101921}, {\"recording_taken\": \"2024-11-28T18:30:00\", \"Measurement\": \"temperature\", \"Value\": 11.729048158654836}, {\"recording_taken\": \"2024-11-28T19:00:00\", \"Measurement\": \"temperature\", \"Value\": 11.74735404420775}, {\"recording_taken\": \"2024-11-28T19:30:00\", \"Measurement\": \"temperature\", \"Value\": 11.765659929760664}, {\"recording_taken\": \"2024-11-28T20:00:00\", \"Measurement\": \"temperature\", \"Value\": 11.783965815313577}, {\"recording_taken\": \"2024-11-28T20:30:00\", \"Measurement\": \"temperature\", \"Value\": 11.802271700866491}, {\"recording_taken\": \"2024-11-28T21:00:00\", \"Measurement\": \"temperature\", \"Value\": 11.820577586419406}, {\"recording_taken\": \"2024-11-28T21:30:00\", \"Measurement\": \"temperature\", \"Value\": 11.838883471972318}, {\"recording_taken\": \"2024-11-28T22:00:00\", \"Measurement\": \"temperature\", \"Value\": 11.857189357525233}, {\"recording_taken\": \"2024-11-28T22:30:00\", \"Measurement\": \"temperature\", \"Value\": 11.875495243078147}, {\"recording_taken\": \"2024-11-28T23:00:00\", \"Measurement\": \"temperature\", \"Value\": 11.89380112863106}, {\"recording_taken\": \"2024-11-28T23:30:00\", \"Measurement\": \"temperature\", \"Value\": 11.912107014183974}, {\"recording_taken\": \"2024-11-29T00:00:00\", \"Measurement\": \"temperature\", \"Value\": 11.930412899736888}, {\"recording_taken\": \"2024-11-29T00:30:00\", \"Measurement\": \"temperature\", \"Value\": 11.9487187852898}, {\"recording_taken\": \"2024-11-29T01:00:00\", \"Measurement\": \"temperature\", \"Value\": 11.967024670842715}, {\"recording_taken\": \"2024-11-29T01:30:00\", \"Measurement\": \"temperature\", \"Value\": 11.98533055639563}, {\"recording_taken\": \"2024-11-29T02:00:00\", \"Measurement\": \"temperature\", \"Value\": 12.003636441948544}, {\"recording_taken\": \"2024-11-29T02:30:00\", \"Measurement\": \"temperature\", \"Value\": 12.021942327501456}, {\"recording_taken\": \"2024-11-29T03:00:00\", \"Measurement\": \"temperature\", \"Value\": 12.04024821305437}, {\"recording_taken\": \"2024-11-29T03:30:00\", \"Measurement\": \"temperature\", \"Value\": 12.058554098607285}, {\"recording_taken\": \"2024-11-29T04:00:00\", \"Measurement\": \"temperature\", \"Value\": 12.076859984160198}, {\"recording_taken\": \"2024-11-29T04:30:00\", \"Measurement\": \"temperature\", \"Value\": 12.095165869713112}, {\"recording_taken\": \"2024-11-29T05:00:00\", \"Measurement\": \"temperature\", \"Value\": 12.113471755266026}, {\"recording_taken\": \"2024-11-29T05:30:00\", \"Measurement\": \"temperature\", \"Value\": 12.131777640818939}, {\"recording_taken\": \"2024-11-29T06:00:00\", \"Measurement\": \"temperature\", \"Value\": 12.150083526371853}, {\"recording_taken\": \"2024-11-29T06:30:00\", \"Measurement\": \"temperature\", \"Value\": 12.168389411924768}, {\"recording_taken\": \"2024-11-29T07:00:00\", \"Measurement\": \"temperature\", \"Value\": 12.18669529747768}, {\"recording_taken\": \"2024-11-29T07:30:00\", \"Measurement\": \"temperature\", \"Value\": 12.205001183030594}, {\"recording_taken\": \"2024-11-29T08:00:00\", \"Measurement\": \"temperature\", \"Value\": 12.223307068583509}, {\"recording_taken\": \"2024-11-29T08:30:00\", \"Measurement\": \"temperature\", \"Value\": 12.241612954136423}, {\"recording_taken\": \"2024-11-29T09:00:00\", \"Measurement\": \"temperature\", \"Value\": 12.259918839689336}, {\"recording_taken\": \"2024-11-29T09:30:00\", \"Measurement\": \"temperature\", \"Value\": 12.27822472524225}, {\"recording_taken\": \"2024-11-29T10:00:00\", \"Measurement\": \"temperature\", \"Value\": 12.296530610795164}, {\"recording_taken\": \"2024-11-29T10:30:00\", \"Measurement\": \"temperature\", \"Value\": 12.314836496348077}, {\"recording_taken\": \"2024-11-29T11:00:00\", \"Measurement\": \"temperature\", \"Value\": 12.333142381900991}, {\"recording_taken\": \"2024-11-29T11:30:00\", \"Measurement\": \"temperature\", \"Value\": 12.246777253147151}, {\"recording_taken\": \"2024-11-29T12:00:00\", \"Measurement\": \"temperature\", \"Value\": 12.062621830395639}, {\"recording_taken\": \"2024-11-29T12:30:00\", \"Measurement\": \"temperature\", \"Value\": 12.338341881789523}, {\"recording_taken\": \"2024-11-29T13:00:00\", \"Measurement\": \"temperature\", \"Value\": 12.159448943987291}, {\"recording_taken\": \"2024-11-29T13:30:00\", \"Measurement\": \"temperature\", \"Value\": 12.079162338756078}, {\"recording_taken\": \"2024-11-29T14:00:00\", \"Measurement\": \"temperature\", \"Value\": 12.1067459711117}, {\"recording_taken\": \"2024-11-29T14:30:00\", \"Measurement\": \"temperature\", \"Value\": 12.12738160796975}, {\"recording_taken\": \"2024-11-29T15:00:00\", \"Measurement\": \"temperature\", \"Value\": 12.126711990413645}]}}, {\"mode\": \"vega-lite\"});\n",
       "</script>"
      ],
      "text/plain": [
       "alt.Chart(...)"
      ]
     },
     "metadata": {},
     "output_type": "display_data"
    }
   ],
   "source": [
    "long_df = grouped_df.melt(\n",
    "    id_vars='recording_taken',\n",
    "    value_vars=['soil_moisture', 'temperature'],\n",
    "    var_name='Measurement',\n",
    "    value_name='Value'\n",
    ")\n",
    "\n",
    "# Create the Altair line chart\n",
    "chart = alt.Chart(long_df).mark_line().encode(\n",
    "    x=alt.X('recording_taken:T', title='Time'),\n",
    "    y=alt.Y('Value:Q', title='Value'),\n",
    "    color='Measurement:N',\n",
    "    tooltip=['recording_taken:T', 'Measurement:N', 'Value:Q']\n",
    ").properties(\n",
    "    title='30-Minute Average Soil Moisture and Temperature over Time',\n",
    "    width=800,\n",
    "    height=400\n",
    ")\n",
    "\n",
    "chart.show()"
   ]
  }
 ],
 "metadata": {
  "kernelspec": {
   "display_name": ".venv",
   "language": "python",
   "name": "python3"
  },
  "language_info": {
   "codemirror_mode": {
    "name": "ipython",
    "version": 3
   },
   "file_extension": ".py",
   "mimetype": "text/x-python",
   "name": "python",
   "nbconvert_exporter": "python",
   "pygments_lexer": "ipython3",
   "version": "3.10.6"
  }
 },
 "nbformat": 4,
 "nbformat_minor": 2
}
